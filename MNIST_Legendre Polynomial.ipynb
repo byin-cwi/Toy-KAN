{
  "cells": [
    {
      "cell_type": "code",
      "execution_count": 1,
      "metadata": {
        "colab": {
          "base_uri": "https://localhost:8080/"
        },
        "id": "JaStImcRParl",
        "outputId": "6a576fc8-8699-4d04-9e73-657682cc64bc"
      },
      "outputs": [
        {
          "name": "stdout",
          "output_type": "stream",
          "text": [
            "%pylab is deprecated, use %matplotlib inline and import the required libraries.\n",
            "Populating the interactive namespace from numpy and matplotlib\n"
          ]
        }
      ],
      "source": [
        "%pylab inline"
      ]
    },
    {
      "cell_type": "code",
      "execution_count": 2,
      "metadata": {
        "colab": {
          "base_uri": "https://localhost:8080/"
        },
        "id": "OtjWT0OuS1ar",
        "outputId": "59cb147e-fc0d-48a2-a6f7-559aabb2e405"
      },
      "outputs": [],
      "source": [
        "# !pip install fvcore"
      ]
    },
    {
      "cell_type": "code",
      "execution_count": 3,
      "metadata": {
        "id": "wsMDP9i1VkDB"
      },
      "outputs": [],
      "source": [
        "import sys\n",
        "import os\n",
        "# import kans\n",
        "# Train on MNIST\n",
        "import torch\n",
        "import torch.nn as nn\n",
        "import torch.optim as optim\n",
        "import torchvision\n",
        "import torchvision.transforms as transforms\n",
        "from torch.utils.data import DataLoader\n",
        "from tqdm import tqdm\n",
        "import time\n",
        "import numpy as np\n",
        "from fvcore.nn import FlopCountAnalysis, parameter_count_table\n",
        "# import argparse\n",
        "import random\n",
        "\n",
        "# parser = argparse.ArgumentParser()\n",
        "# # 'KAN' or 'MLP'\n",
        "# parser.add_argument('--model', type=str, default='MLP')\n",
        "# parser.add_argument('--seed', type=int, default=1)\n",
        "# parser.add_argument('--epoch', type=int, default=30)\n",
        "# parser.add_argument('--lr', type=float, default=1e-2)\n",
        "# args = parser.parse_args()\n",
        "\n",
        "\n",
        "def set_seed(seed):\n",
        "    # fix seed\n",
        "    torch.manual_seed(seed)\n",
        "    torch.cuda.manual_seed_all(seed)\n",
        "    np.random.seed(seed)\n",
        "    random.seed(seed)\n",
        "    np.random.seed(seed)\n",
        "    torch.backends.cudnn.deterministic = True\n",
        "\n",
        "seed = 1\n",
        "set_seed(seed)\n",
        "epochs = 1\n",
        "lr = 1e-2\n",
        "\n",
        "# Load MNIST\n",
        "transform   = transforms.Compose(\n",
        "    [transforms.ToTensor(), transforms.Normalize((0.5,), (0.5,))]\n",
        ")\n",
        "trainset    = torchvision.datasets.MNIST(\n",
        "    root=\"./data\", train=True, download=True, transform=transform\n",
        ")\n",
        "valset      = torchvision.datasets.MNIST(\n",
        "    root=\"./data\", train=False, download=True, transform=transform\n",
        ")\n",
        "trainloader = DataLoader(trainset, batch_size=256, shuffle=True)\n",
        "valloader   = DataLoader(valset, batch_size=256, shuffle=False)\n",
        "\n"
      ]
    },
    {
      "cell_type": "markdown",
      "metadata": {
        "id": "vOU-dzVkS8HJ"
      },
      "source": [
        "## MNIST example"
      ]
    },
    {
      "cell_type": "markdown",
      "metadata": {},
      "source": [
        "### Legendre Poly"
      ]
    },
    {
      "cell_type": "code",
      "execution_count": 53,
      "metadata": {},
      "outputs": [
        {
          "name": "stdout",
          "output_type": "stream",
          "text": [
            "tensor([[ -4.1745,  -0.4311],\n",
            "        [ -0.1960,  -0.6447],\n",
            "        [ -0.3369,  -2.2412],\n",
            "        [ -8.1840, -12.0153],\n",
            "        [-20.0880,   6.5105],\n",
            "        [ -0.2536,   2.8465],\n",
            "        [ 63.2677, -74.8069],\n",
            "        [  4.3365,  -3.7160],\n",
            "        [ -3.4655,   7.7854],\n",
            "        [  0.3915,  -1.1769]], grad_fn=<AddBackward0>)\n"
          ]
        }
      ],
      "source": [
        "import torch\n",
        "import torch.nn as nn\n",
        "\n",
        "class RecurrentLegendreLayer(nn.Module):\n",
        "    def __init__(self, max_degree, input_dim, output_dim):\n",
        "        super(RecurrentLegendreLayer, self).__init__()\n",
        "        self.max_degree = max_degree\n",
        "        self.input_dim = input_dim\n",
        "        self.output_dim = output_dim\n",
        "\n",
        "        # Parameters for the linear combination of Legendre polynomials\n",
        "        # Adjust dimensions: one set of weights for each polynomial degree, across all input/output dimension pairs\n",
        "        self.weights = nn.Parameter(torch.randn(max_degree + 1, self.input_dim, self.output_dim))\n",
        "        # nn.init.xavier_normal_(self.weights)\n",
        "        nn.init.orthogonal_(self.weights)\n",
        "        # nn.init.kaiming_normal_(self.weights)\n",
        "\n",
        "\n",
        "        self.dropout = nn.Dropout(.1)\n",
        "        # Optional: Bias for each output dimension\n",
        "        self.bias = nn.Parameter(torch.zeros(self.output_dim))\n",
        "\n",
        "    def forward(self, x):\n",
        "        batch_size = x.shape[0]\n",
        "\n",
        "        # Initialize P0 and P1 for the recurrence relation\n",
        "        P_n_minus_2 = torch.ones((batch_size, self.input_dim), device=x.device)\n",
        "        P_n_minus_1 = x.clone()\n",
        "\n",
        "        # Store all polynomial values\n",
        "        polys = [P_n_minus_2.unsqueeze(-1), P_n_minus_1.unsqueeze(-1)]\n",
        "\n",
        "        # Compute higher order polynomials up to max_degree\n",
        "        for n in range(2, self.max_degree + 1):\n",
        "            P_n = ((2 * n - 1) * x * P_n_minus_1 - (n - 1) * P_n_minus_2) / n\n",
        "            polys.append(P_n.unsqueeze(-1))\n",
        "            P_n_minus_2, P_n_minus_1 = P_n_minus_1, P_n\n",
        "\n",
        "        # Concatenate all polynomial values\n",
        "        polys = torch.cat(polys, dim=-1)  # Shape: [batch_size, input_dim, max_degree + 1]\n",
        "        polys = self.dropout(polys)\n",
        "        # Linearly combine polynomial features\n",
        "        output = torch.einsum('bif,fio->bo', polys, self.weights) + self.bias\n",
        "\n",
        "        return output\n",
        "\n",
        "# # Example usage\n",
        "# max_degree = 4\n",
        "# input_dim = 3\n",
        "# output_dim = 2\n",
        "# layer = RecurrentLegendreLayer(max_degree, input_dim, output_dim)\n",
        "# x = torch.randn(10, input_dim)  # Example input\n",
        "# output = layer(x)\n",
        "# print(output)\n",
        "# loss = output.mean()\n",
        "# loss.backward()"
      ]
    },
    {
      "cell_type": "code",
      "execution_count": 62,
      "metadata": {},
      "outputs": [],
      "source": [
        "class MNISTLPKAN(nn.Module):\n",
        "    def __init__(self, params_list):\n",
        "        super(MNISTLPKAN, self).__init__()\n",
        "        self.layer1 = RecurrentLegendreLayer(7, params_list[0], params_list[1])\n",
        "        self.layer2 = RecurrentLegendreLayer(3, params_list[1], params_list[2])\n",
        "\n",
        "    def forward(self, x):\n",
        "        x = self.layer1(x)\n",
        "        x = self.layer2(x)\n",
        "        return x"
      ]
    },
    {
      "cell_type": "code",
      "execution_count": 63,
      "metadata": {},
      "outputs": [
        {
          "name": "stderr",
          "output_type": "stream",
          "text": [
            "  0%|          | 0/235 [00:00<?, ?it/s]"
          ]
        },
        {
          "name": "stderr",
          "output_type": "stream",
          "text": [
            "100%|██████████| 235/235 [00:08<00:00, 27.22it/s, loss=5.76, lr=0.003]  \n"
          ]
        },
        {
          "name": "stdout",
          "output_type": "stream",
          "text": [
            "Epoch 1, Val Loss: 8.59568626936525, Val Accuracy: 0.90556640625, avg time:8.635225534439087 s\n"
          ]
        },
        {
          "name": "stderr",
          "output_type": "stream",
          "text": [
            "100%|██████████| 235/235 [00:08<00:00, 27.51it/s, loss=6.19, lr=0.003]\n"
          ]
        },
        {
          "name": "stdout",
          "output_type": "stream",
          "text": [
            "Epoch 2, Val Loss: 3.5901161607915126, Val Accuracy: 0.92001953125, avg time:8.589032411575317 s\n"
          ]
        },
        {
          "name": "stderr",
          "output_type": "stream",
          "text": [
            "100%|██████████| 235/235 [00:08<00:00, 27.21it/s, loss=2.04, lr=0.003] \n"
          ]
        },
        {
          "name": "stdout",
          "output_type": "stream",
          "text": [
            "Epoch 3, Val Loss: 1.9765407423241412, Val Accuracy: 0.93486328125, avg time:8.60496719678243 s\n"
          ]
        },
        {
          "name": "stderr",
          "output_type": "stream",
          "text": [
            "100%|██████████| 235/235 [00:08<00:00, 28.12it/s, loss=2, lr=0.003]    \n"
          ]
        },
        {
          "name": "stdout",
          "output_type": "stream",
          "text": [
            "Epoch 4, Val Loss: 1.2786578796905814, Val Accuracy: 0.94169921875, avg time:8.54322212934494 s\n"
          ]
        },
        {
          "name": "stderr",
          "output_type": "stream",
          "text": [
            "100%|██████████| 235/235 [00:08<00:00, 28.29it/s, loss=0.0284, lr=0.003]\n"
          ]
        },
        {
          "name": "stdout",
          "output_type": "stream",
          "text": [
            "Epoch 5, Val Loss: 0.9262760961748426, Val Accuracy: 0.94580078125, avg time:8.496521759033204 s\n",
            "MNISTLPKAN | Averaged Inference Time:0.44236278533935547 ms\n",
            "MNISTLPKAN | Params: 0.8081 M\n",
            "| name             | #elements or shape   |\n",
            "|:-----------------|:---------------------|\n",
            "| model            | 0.8M                 |\n",
            "|  layer1          |  0.8M                |\n",
            "|   layer1.weights |   (8, 784, 128)      |\n",
            "|   layer1.bias    |   (128,)             |\n",
            "|  layer2          |  5.1K                |\n",
            "|   layer2.weights |   (4, 128, 10)       |\n",
            "|   layer2.bias    |   (10,)              |\n"
          ]
        }
      ],
      "source": [
        "model_str = \"MNISTLPKAN\"\n",
        "\n",
        "# Define model\n",
        "model   = MNISTLPKAN([28 * 28, 128, 10])\n",
        "device  = torch.device(\"cuda\" if torch.cuda.is_available() else \"cpu\")\n",
        "model.to(device)\n",
        "# Define optimizer\n",
        "# optimizer = optim.LBFGS(model.parameters(), lr=lr)\n",
        "# optimizer = optim.RAdam(model.parameters(), lr=3e-3)\n",
        "optimizer = optim.Adam(model.parameters(), lr=3e-3)\n",
        "\n",
        "# Define learning rate scheduler\n",
        "# scheduler = optim.lr_scheduler.ExponentialLR(optimizer, gamma=0.9)\n",
        "\n",
        "# Define loss\n",
        "criterion     = nn.CrossEntropyLoss()\n",
        "\n",
        "time_list     = []\n",
        "LP_loss = []\n",
        "for epoch in range(5):\n",
        "    # Train\n",
        "    model.train()\n",
        "    sta_time = time.time()\n",
        "    with tqdm(trainloader) as pbar:\n",
        "        for i, (images, labels) in enumerate(pbar):\n",
        "            images, labels = images.view(-1, 28 * 28).to(device), labels.to(device)\n",
        "            def closure():\n",
        "                optimizer.zero_grad()\n",
        "                output  = model(images)\n",
        "                loss    = criterion(output, labels)\n",
        "                loss.backward()\n",
        "                return loss\n",
        "            optimizer.step(closure)\n",
        "            loss        = closure()\n",
        "            # optimizer.zero_grad()\n",
        "            # output  = model(images)\n",
        "            # loss    = criterion(output, labels)\n",
        "            # loss.backward()\n",
        "            # optimizer.step()\n",
        "\n",
        "            LP_loss.append(loss.item())\n",
        "            pbar.set_postfix(loss=loss.item(), lr=optimizer.param_groups[0]['lr'])\n",
        "    end_time = time.time()\n",
        "    time_list.append(end_time-sta_time)\n",
        "\n",
        "    # Validation\n",
        "    model.eval()\n",
        "    val_loss        = 0\n",
        "    val_accuracy    = 0\n",
        "    with torch.no_grad():\n",
        "        for images, labels in valloader:\n",
        "            images          = images.view(-1, 28 * 28).to(device)\n",
        "            output          = model(images)\n",
        "            val_loss        += criterion(output, labels.to(device)).item()\n",
        "            val_accuracy    += (\n",
        "                (output.argmax(dim=1) == labels.to(device)).float().mean().item()\n",
        "            )\n",
        "    val_loss        /= len(valloader)\n",
        "    val_accuracy    /= len(valloader)\n",
        "\n",
        "    # Update learning rate\n",
        "    scheduler.step()\n",
        "\n",
        "    print(\n",
        "        f\"Epoch {epoch + 1}, Val Loss: {val_loss}, Val Accuracy: {val_accuracy}, avg time:{np.mean(time_list)} s\"\n",
        "    )\n",
        "\n",
        "# toy testing\n",
        "model.to('cpu')\n",
        "model.eval()\n",
        "test_x      = valset[0][0].view(-1, 28 * 28)\n",
        "inf_time    = []\n",
        "for i in range(500):\n",
        "    inf_sta_time    =  time.time()\n",
        "    res             = model(test_x)\n",
        "    inf_end_time    =   time.time()\n",
        "    inf_time.append(inf_end_time-inf_sta_time)\n",
        "\n",
        "def print_model_parm_nums(model):\n",
        "    total = sum([param.nelement() for param in model.parameters()])\n",
        "    return (total / 1e6)\n",
        "\n",
        "print(f'{model_str} | Averaged Inference Time:{np.mean(inf_time)*1e3} ms')\n",
        "# flops = FlopCountAnalysis(model, test_x)\n",
        "# print(f\"{model_str} | MACs: %.4f M \" % (flops.total()/ 1e6))\n",
        "print(f\"{model_str} | Params: %.4f M\" % print_model_parm_nums(model))\n",
        "print(parameter_count_table(model))"
      ]
    },
    {
      "cell_type": "code",
      "execution_count": 64,
      "metadata": {},
      "outputs": [
        {
          "data": {
            "text/plain": [
              "[<matplotlib.lines.Line2D at 0x7fdc9ce95000>]"
            ]
          },
          "execution_count": 64,
          "metadata": {},
          "output_type": "execute_result"
        },
        {
          "data": {
            "image/png": "[encoded data removed]",
            "text/plain": [
              "<Figure size 640x480 with 1 Axes>"
            ]
          },
          "metadata": {},
          "output_type": "display_data"
        }
      ],
      "source": [
        "plt.plot(np.log(LP_loss),label='legendre')"
      ]
    },
    {
      "cell_type": "code",
      "execution_count": null,
      "metadata": {},
      "outputs": [],
      "source": []
    }
  ],
  "metadata": {
    "colab": {
      "provenance": []
    },
    "kernelspec": {
      "display_name": "Python 3",
      "name": "python3"
    },
    "language_info": {
      "codemirror_mode": {
        "name": "ipython",
        "version": 3
      },
      "file_extension": ".py",
      "mimetype": "text/x-python",
      "name": "python",
      "nbconvert_exporter": "python",
      "pygments_lexer": "ipython3",
      "version": "3.10.12"
    }
  },
  "nbformat": 4,
  "nbformat_minor": 0
}
